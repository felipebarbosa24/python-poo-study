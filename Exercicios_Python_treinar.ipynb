{
  "cells": [
    {
      "cell_type": "markdown",
      "metadata": {
        "id": "YhfN0D0cnMeV"
      },
      "source": [
        "#**Exercícios Python POO - Nível 1**\n",
        "\n"
      ]
    },
    {
      "cell_type": "markdown",
      "metadata": {
        "id": "Zp7rhkOdQLfr"
      },
      "source": [
        "#### **1 -  Identidade e Idade:** Uma escola está cadastrando novos alunos. Para cada pessoa é preciso registrar o nome e a idade, e ao final o sistema deve informar se o aluno é maior de idade (pode se inscrever em cursos noturnos) ou menor de idade (só pode estudar no turno da manhã/tarde)."
      ]
    },
    {
      "cell_type": "code",
      "execution_count": 1,
      "metadata": {
        "id": "nUSym1NZQJgx"
      },
      "outputs": [
        {
          "name": "stdout",
          "output_type": "stream",
          "text": [
            "Nome do aluno: Pedro\n",
            "Idade: 18\n",
            "Pedro, sua idade é 18, então você pode estudar de manhã, tarde e noite.\n"
          ]
        }
      ],
      "source": [
        "# código aqui\n",
        "class Aluno:\n",
        "    def __init__(self, nome, idade):\n",
        "        self.nome = nome\n",
        "        self.idade = int(idade)  # garante que será número\n",
        "\n",
        "    def mostrar_aluno(self):\n",
        "        print(f\"Nome do aluno: {self.nome}\\nIdade: {self.idade}\")\n",
        "\n",
        "class Escola:\n",
        "    def comparar_idade(self, aluno):\n",
        "        if aluno.idade < 0:\n",
        "            print(\"Dados inválidos!\")\n",
        "        elif aluno.idade >= 18:\n",
        "            print(f\"{aluno.nome}, sua idade é {aluno.idade}, então você pode estudar de manhã, tarde e noite.\")\n",
        "        else:\n",
        "            print(f\"{aluno.nome}, como é menor de idade, poderá estudar somente de manhã e tarde.\")\n",
        "\n",
        "# --- Teste ---\n",
        "aluno1 = Aluno(\"Pedro\", 18)\n",
        "escola = Escola()\n",
        "\n",
        "aluno1.mostrar_aluno()\n",
        "escola.comparar_idade(aluno1)\n",
        "\n",
        "\n",
        "\n"
      ]
    },
    {
      "cell_type": "markdown",
      "metadata": {
        "id": "tlsD3L0CQf17"
      },
      "source": [
        "\n",
        "\n",
        "\n",
        "\n",
        "\n",
        "\n",
        "\n",
        "\n",
        "\n",
        "\n",
        "\n",
        "\n",
        "\n",
        "\n",
        "\n",
        "\n",
        "\n",
        "\n",
        "\n",
        "\n",
        "#### **2 - Controle de Estoque:** Uma pequena loja de bairro quer informatizar seus produtos. Cada item tem nome, preço e quantidade disponível. O dono deseja consultar se ainda há unidades para vender, exibindo uma mensagem apropriada quando o estoque estiver zerado."
      ]
    },
    {
      "cell_type": "code",
      "execution_count": null,
      "metadata": {
        "id": "MUjZrKNUQ6QE"
      },
      "outputs": [],
      "source": [
        "# código aqui\n",
        "\n",
        "\n",
        "\n",
        "\n",
        "\n",
        "\n",
        "\n",
        "\n",
        "\n",
        "\n",
        "\n",
        "\n",
        "\n",
        "\n",
        "\n",
        "\n",
        "\n",
        "\n"
      ]
    },
    {
      "cell_type": "markdown",
      "metadata": {
        "id": "N47bqGYNRPOF"
      },
      "source": [
        "# **Exercícios Python POO - Nível 2**\n"
      ]
    },
    {
      "cell_type": "markdown",
      "metadata": {
        "id": "ljUOQpCfRfu3"
      },
      "source": [
        "#### **3 - Carrinho de Compras:** Uma loja virtual precisa de um carrinho onde o cliente possa adicionar diferentes produtos, visualizar todos os itens e calcular o valor total da compra. Se o carrinho estiver vazio, uma mensagem de alerta deve ser mostrada para o usuário."
      ]
    },
    {
      "cell_type": "code",
      "execution_count": null,
      "metadata": {
        "id": "a70M-j4lRx6G"
      },
      "outputs": [],
      "source": [
        "# código aqui\n",
        "\n",
        "\n",
        "\n",
        "\n",
        "\n",
        "\n",
        "\n",
        "\n",
        "\n",
        "\n",
        "\n",
        "\n",
        "\n",
        "\n",
        "\n",
        "\n",
        "\n",
        "\n"
      ]
    },
    {
      "cell_type": "markdown",
      "metadata": {
        "id": "xcFhl-UaR2at"
      },
      "source": [
        "#### **4 - Biblioteca Escolar:** Uma biblioteca de escola organiza vários livros. O sistema deve permitir que alunos façam empréstimos, mas apenas se o livro estiver disponível. Também deve ser possível registrar a devolução de um livro emprestado, para que ele fique disponível novamente."
      ]
    },
    {
      "cell_type": "code",
      "execution_count": null,
      "metadata": {
        "id": "3f-RMg6BSU0v"
      },
      "outputs": [],
      "source": [
        "# código aqui\n",
        "\n",
        "\n",
        "\n",
        "\n",
        "\n",
        "\n",
        "\n",
        "\n",
        "\n",
        "\n",
        "\n",
        "\n",
        "\n",
        "\n",
        "\n",
        "\n",
        "\n",
        "\n"
      ]
    },
    {
      "cell_type": "markdown",
      "metadata": {
        "id": "CGr4B-CLXnLw"
      },
      "source": [
        "# **Exercícios Python POO com Enunciado mais elaborado - Nível 3**\n",
        "\n",
        "\n",
        "#### **🧠 Questão 1 – Academia de Heróis: Treinamento Controlado**\n",
        "\n",
        "Após incidentes em treinamentos que resultaram em danos às instalações da **Academia de Heróis de Nova Éter**, o conselho decidiu implementar um novo sistema de controle dos cadetes durante os exercícios práticos.\n",
        "\n",
        "Cada **sala de treinamento** comporta **até 4 heróis** por vez. Para garantir segurança e aprendizado equilibrado, ficou determinado que:\n",
        "\n",
        "- Não podem estar juntos na mesma sala heróis que possuam **o mesmo tipo de poder**.  \n",
        "- Também não podem estar juntos heróis que pertençam à **mesma equipe de origem**, para evitar alianças indevidas durante as simulações.  \n",
        "\n",
        "Além disso, os cadetes devem ser classificados conforme seu **nível de poder**, determinado pela pontuação média em testes de força e controle:\n",
        "\n",
        "- **Classe Ômega** – pontuação igual ou superior a 90  \n",
        "- **Classe Alpha** – pontuação entre 70 e 89  \n",
        "- **Classe Beta** – pontuação entre 50 e 69  \n",
        "- **Classe Delta** – pontuação abaixo de 50  \n",
        "\n",
        "O conselho precisa que você desenvolva um sistema que permita:\n",
        "\n",
        "- Cadastrar novos heróis e determinar automaticamente sua classe de poder.  \n",
        "- Designar heróis para salas de treinamento, respeitando as restrições de tipo de poder e equipe.  \n",
        "- Mostrar quais heróis estão em determinada sala.  \n",
        "- Transferir heróis entre salas, se necessário, mantendo as regras de compatibilidade.\n"
      ]
    },
    {
      "cell_type": "code",
      "execution_count": null,
      "metadata": {
        "id": "fFeE57OwXsJU"
      },
      "outputs": [],
      "source": [
        "# código aqui\n",
        "\n",
        "\n",
        "\n",
        "\n",
        "\n",
        "\n",
        "\n",
        "\n",
        "\n",
        "\n",
        "\n",
        "\n",
        "\n",
        "\n",
        "\n",
        "\n",
        "\n",
        "\n"
      ]
    }
  ],
  "metadata": {
    "colab": {
      "provenance": []
    },
    "kernelspec": {
      "display_name": "Python 3",
      "name": "python3"
    },
    "language_info": {
      "codemirror_mode": {
        "name": "ipython",
        "version": 3
      },
      "file_extension": ".py",
      "mimetype": "text/x-python",
      "name": "python",
      "nbconvert_exporter": "python",
      "pygments_lexer": "ipython3",
      "version": "3.13.7"
    }
  },
  "nbformat": 4,
  "nbformat_minor": 0
}
